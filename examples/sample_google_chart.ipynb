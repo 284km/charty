{
 "cells": [
  {
   "cell_type": "code",
   "execution_count": 1,
   "metadata": {},
   "outputs": [
    {
     "data": {
      "text/plain": [
       "#<Charty::Plotter:0x00007fa7812c3be0 @frontend=#<Charty::GoogleChart:0x00007fa7812bf798>>"
      ]
     },
     "execution_count": 1,
     "metadata": {},
     "output_type": "execute_result"
    }
   ],
   "source": [
    "require 'charty'\n",
    "\n",
    "charty = Charty::Plotter.new(:google_chart)"
   ]
  },
  {
   "cell_type": "code",
   "execution_count": 4,
   "metadata": {},
   "outputs": [
    {
     "data": {
      "text/html": [
       "          <script type='text/javascript' src='https://www.gstatic.com/charts/loader.js'></script>\n",
       "          <script type=\"text/javascript\">\n",
       "            google.charts.load(\"current\", {packages:[\"corechart\"]});\n",
       "            google.charts.setOnLoadCallback(drawChart);\n",
       "            function drawChart() {\n",
       "              var data = google.visualization.arrayToDataTable(\n",
       "                [[\"foo\", \"0\", \"1\"], [\"0\", 10, 30], [\"1\", 20, 40], [\"2\", 70, 50], [\"4\", 60, 0]]\n",
       "              );\n",
       "\n",
       "              var view = new google.visualization.DataView(data);\n",
       "\n",
       "              var options = {\n",
       "                title: \"this is the title\",\n",
       "                bar: {groupWidth: \"95%\"},\n",
       "                vAxis: {\n",
       "                  title: \"foo\"\n",
       "                },\n",
       "                hAxis: {\n",
       "                  title: \"bara\"\n",
       "                },\n",
       "                legend: { position: \"none\" },\n",
       "              };\n",
       "              var chart = new google.visualization.BarChart(document.getElementById(\"barchart_values\"));\n",
       "              chart.draw(view, options);\n",
       "            }\n",
       "          </script>\n",
       "          <div id=\"barchart_values\" style=\"width: 900px; height: 300px;\"></div>\n"
      ],
      "text/plain": [
       "\"          <script type='text/javascript' src='https://www.gstatic.com/charts/loader.js'></script>\\n          <script type=\\\"text/javascript\\\">\\n            google.charts.load(\\\"current\\\", {packages:[\\\"corechart\\\"]});\\n            google.charts.setOnLoadCallback(drawChart);\\n            function drawChart() {\\n              var data = google.visualization.arrayToDataTable(\\n                [[\\\"foo\\\", \\\"0\\\", \\\"1\\\"], [\\\"0\\\", 10, 30], [\\\"1\\\", 20, 40], [\\\"2\\\", 70, 50], [\\\"4\\\", 60, 0]]\\n              );\\n\\n              var view = new google.visualization.DataView(data);\\n\\n              var options = {\\n                title: \\\"this is the title\\\",\\n                bar: {groupWidth: \\\"95%\\\"},\\n                vAxis: {\\n                  title: \\\"foo\\\"\\n                },\\n                hAxis: {\\n                  title: \\\"bara\\\"\\n                },\\n                legend: { position: \\\"none\\\" },\\n              };\\n              var chart = new google.visualization.BarChart(document.getElementById(\\\"barchart_values\\\"));\\n              chart.draw(view, options);\\n            }\\n          </script>\\n          <div id=\\\"barchart_values\\\" style=\\\"width: 900px; height: 300px;\\\"></div>\\n\""
      ]
     },
     "metadata": {},
     "output_type": "display_data"
    },
    {
     "data": {
      "text/plain": [
       "#<CZTop::Socket::PUB:0x7fa784c2fe00 last_endpoint=\"tcp://127.0.0.1:59332\">"
      ]
     },
     "execution_count": 4,
     "metadata": {},
     "output_type": "execute_result"
    }
   ],
   "source": [
    "bar = charty.bar do\n",
    "  xlabel 'foo'\n",
    "  ylabel 'bara'\n",
    "  series [0, 1, 4,  2], [10, 20, 60, 70]\n",
    "  series [0, 1, 2], [30, 40, 50]\n",
    "  title 'this is the title'\n",
    "end\n",
    "IRuby.display(IRuby.html(bar.render))"
   ]
  },
  {
   "cell_type": "code",
   "execution_count": 5,
   "metadata": {},
   "outputs": [
    {
     "data": {
      "text/plain": [
       "\"          <script type='text/javascript' src='https://www.gstatic.com/charts/loader.js'></script>\\n          <script type=\\\"text/javascript\\\">\\n            google.charts.load(\\\"current\\\", {packages:[\\\"corechart\\\"]});\\n            google.charts.setOnLoadCallback(drawChart);\\n            function drawChart() {\\n              var data = google.visualization.arrayToDataTable(\\n                [[\\\"foo\\\", \\\"0\\\", \\\"1\\\"], [\\\"0\\\", 10, 30], [\\\"1\\\", 20, 40], [\\\"2\\\", 70, 50], [\\\"4\\\", 60, 0]]\\n              );\\n\\n              var view = new google.visualization.DataView(data);\\n\\n              var options = {\\n                title: \\\"this is the title\\\",\\n                bar: {groupWidth: \\\"95%\\\"},\\n                vAxis: {\\n                  title: \\\"foo\\\"\\n                },\\n                hAxis: {\\n                  title: \\\"bara\\\"\\n                },\\n                legend: { position: \\\"none\\\" },\\n              };\\n              var chart = new google.visualization.BarChart(document.getElementById(\\\"barchart_values\\\"));\\n              chart.draw(view, options);\\n            }\\n          </script>\\n          <div id=\\\"barchart_values\\\" style=\\\"width: 900px; height: 300px;\\\"></div>\\n\""
      ]
     },
     "execution_count": 5,
     "metadata": {},
     "output_type": "execute_result"
    }
   ],
   "source": []
  },
  {
   "cell_type": "code",
   "execution_count": null,
   "metadata": {},
   "outputs": [],
   "source": []
  }
 ],
 "metadata": {
  "kernelspec": {
   "display_name": "Ruby 2.5.5",
   "language": "ruby",
   "name": "ruby"
  },
  "language_info": {
   "file_extension": ".rb",
   "mimetype": "application/x-ruby",
   "name": "ruby",
   "version": "2.5.5"
  }
 },
 "nbformat": 4,
 "nbformat_minor": 2
}
