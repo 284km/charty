{
 "cells": [
  {
   "cell_type": "code",
   "execution_count": 1,
   "metadata": {},
   "outputs": [],
   "source": [
    "require 'charty'\n",
    "\n",
    "charty = Charty::Plotter.new(:google_chart)"
   ]
  },
  {
   "cell_type": "code",
   "execution_count": 2,
   "metadata": {},
   "outputs": [],
   "source": [
    "bar = charty.bar do\n",
    "  xlabel 'foo'\n",
    "  ylabel 'bara'\n",
    "  series [0, 1, 4,  2], [10, 20, 60, 70]\n",
    "  series [0, 1, 2], [30, 40, 50]\n",
    "  title 'this is the title'\n",
    "end\n",
    "IRuby.display(IRuby.html(bar.render))"
   ]
  },
  {
   "cell_type": "code",
   "execution_count": null,
   "metadata": {},
   "outputs": [],
   "source": []
  },
  {
   "cell_type": "code",
   "execution_count": null,
   "metadata": {},
   "outputs": [],
   "source": []
  }
 ],
 "metadata": {
  "kernelspec": {
   "display_name": "Ruby 2.5.5",
   "language": "ruby",
   "name": "ruby"
  },
  "language_info": {
   "file_extension": ".rb",
   "mimetype": "application/x-ruby",
   "name": "ruby",
   "version": "2.5.5"
  }
 },
 "nbformat": 4,
 "nbformat_minor": 2
}
