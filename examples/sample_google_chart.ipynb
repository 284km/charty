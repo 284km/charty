{
 "cells": [
  {
   "cell_type": "code",
   "execution_count": 1,
   "metadata": {},
   "outputs": [
    {
     "data": {
      "text/plain": [
       "#<Charty::Plotter:0x00007f83d19dd968 @plotter_adapter=#<Charty::GoogleChart:0x00007f83d19797d8>>"
      ]
     },
     "execution_count": 1,
     "metadata": {},
     "output_type": "execute_result"
    }
   ],
   "source": [
    "require 'charty'\n",
    "\n",
    "charty = Charty::Plotter.new(:google_chart)"
   ]
  },
  {
   "cell_type": "code",
   "execution_count": 2,
   "metadata": {},
   "outputs": [
    {
     "data": {
      "text/html": [
       "2"
      ],
      "text/plain": [
       "2"
      ]
     },
     "metadata": {},
     "output_type": "display_data"
    },
    {
     "data": {
      "text/plain": [
       "#<CZTop::Socket::PUB:0x7f83d5543790 last_endpoint=\"tcp://127.0.0.1:65072\">"
      ]
     },
     "execution_count": 2,
     "metadata": {},
     "output_type": "execute_result"
    }
   ],
   "source": [
    "bar = charty.bar do\n",
    "  xlabel 'foo'\n",
    "  ylabel 'bara'\n",
    "  series [0, 1, 4,  2], [10, 20, 60, 70]\n",
    "  series [0, 1, 2], [30, 40, 50]\n",
    "  title 'this is the title'\n",
    "end\n",
    "IRuby.display(IRuby.html(bar.render))"
   ]
  },
  {
   "cell_type": "code",
   "execution_count": 3,
   "metadata": {},
   "outputs": [
    {
     "data": {
      "text/html": [
       "3"
      ],
      "text/plain": [
       "3"
      ]
     },
     "metadata": {},
     "output_type": "display_data"
    },
    {
     "data": {
      "text/plain": [
       "#<CZTop::Socket::PUB:0x7f83d5543790 last_endpoint=\"tcp://127.0.0.1:65072\">"
      ]
     },
     "execution_count": 3,
     "metadata": {},
     "output_type": "execute_result"
    }
   ],
   "source": [
    "scatter = charty.scatter do\n",
    "  xlabel 'foo'\n",
    "  ylabel 'bara'\n",
    "  series [0, 1, 4,  2], [10, 20, 60, 70]\n",
    "  series [0, 1, 2], [30, 40, 50]\n",
    "  title 'this is the title'\n",
    "end\n",
    "IRuby.display(IRuby.html(scatter.render))"
   ]
  },
  {
   "cell_type": "code",
   "execution_count": null,
   "metadata": {},
   "outputs": [],
   "source": []
  }
 ],
 "metadata": {
  "kernelspec": {
   "display_name": "Ruby 2.5.5",
   "language": "ruby",
   "name": "ruby"
  },
  "language_info": {
   "file_extension": ".rb",
   "mimetype": "application/x-ruby",
   "name": "ruby",
   "version": "2.5.5"
  }
 },
 "nbformat": 4,
 "nbformat_minor": 2
}
