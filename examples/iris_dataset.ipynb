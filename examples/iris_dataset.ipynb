{
 "cells": [
  {
   "cell_type": "markdown",
   "metadata": {},
   "source": [
    "# Example usage of Charty"
   ]
  },
  {
   "cell_type": "markdown",
   "metadata": {},
   "source": [
    "Read Iris dataset as a data frame."
   ]
  },
  {
   "cell_type": "code",
   "execution_count": 1,
   "metadata": {},
   "outputs": [
    {
     "data": {
      "application/javascript": [
       "if(window['d3'] === undefined ||\n",
       "   window['Nyaplot'] === undefined){\n",
       "    var path = {\"d3\":\"https://cdnjs.cloudflare.com/ajax/libs/d3/3.5.5/d3.min\",\"downloadable\":\"http://cdn.rawgit.com/domitry/d3-downloadable/master/d3-downloadable\"};\n",
       "\n",
       "\n",
       "\n",
       "    var shim = {\"d3\":{\"exports\":\"d3\"},\"downloadable\":{\"exports\":\"downloadable\"}};\n",
       "\n",
       "    require.config({paths: path, shim:shim});\n",
       "\n",
       "\n",
       "require(['d3'], function(d3){window['d3']=d3;console.log('finished loading d3');require(['downloadable'], function(downloadable){window['downloadable']=downloadable;console.log('finished loading downloadable');\n",
       "\n",
       "\tvar script = d3.select(\"head\")\n",
       "\t    .append(\"script\")\n",
       "\t    .attr(\"src\", \"http://cdn.rawgit.com/domitry/Nyaplotjs/master/release/nyaplot.js\")\n",
       "\t    .attr(\"async\", true);\n",
       "\n",
       "\tscript[0][0].onload = script[0][0].onreadystatechange = function(){\n",
       "\n",
       "\n",
       "\t    var event = document.createEvent(\"HTMLEvents\");\n",
       "\t    event.initEvent(\"load_nyaplot\",false,false);\n",
       "\t    window.dispatchEvent(event);\n",
       "\t    console.log('Finished loading Nyaplotjs');\n",
       "\n",
       "\t};\n",
       "\n",
       "\n",
       "});});\n",
       "}\n"
      ],
      "text/plain": [
       "\"if(window['d3'] === undefined ||\\n   window['Nyaplot'] === undefined){\\n    var path = {\\\"d3\\\":\\\"https://cdnjs.cloudflare.com/ajax/libs/d3/3.5.5/d3.min\\\",\\\"downloadable\\\":\\\"http://cdn.rawgit.com/domitry/d3-downloadable/master/d3-downloadable\\\"};\\n\\n\\n\\n    var shim = {\\\"d3\\\":{\\\"exports\\\":\\\"d3\\\"},\\\"downloadable\\\":{\\\"exports\\\":\\\"downloadable\\\"}};\\n\\n    require.config({paths: path, shim:shim});\\n\\n\\nrequire(['d3'], function(d3){window['d3']=d3;console.log('finished loading d3');require(['downloadable'], function(downloadable){window['downloadable']=downloadable;console.log('finished loading downloadable');\\n\\n\\tvar script = d3.select(\\\"head\\\")\\n\\t    .append(\\\"script\\\")\\n\\t    .attr(\\\"src\\\", \\\"http://cdn.rawgit.com/domitry/Nyaplotjs/master/release/nyaplot.js\\\")\\n\\t    .attr(\\\"async\\\", true);\\n\\n\\tscript[0][0].onload = script[0][0].onreadystatechange = function(){\\n\\n\\n\\t    var event = document.createEvent(\\\"HTMLEvents\\\");\\n\\t    event.initEvent(\\\"load_nyaplot\\\",false,false);\\n\\t    window.dispatchEvent(event);\\n\\t    console.log('Finished loading Nyaplotjs');\\n\\n\\t};\\n\\n\\n});});\\n}\\n\""
      ]
     },
     "metadata": {},
     "output_type": "display_data"
    },
    {
     "data": {
      "text/html": [
       "<b> Daru::DataFrame(10x5) </b>\n",
       "<table>\n",
       "  <thead>\n",
       "  \n",
       "    <tr>\n",
       "      <th></th>\n",
       "      \n",
       "        <th>sepal_length</th>\n",
       "      \n",
       "        <th>sepal_width</th>\n",
       "      \n",
       "        <th>petal_length</th>\n",
       "      \n",
       "        <th>petal_width</th>\n",
       "      \n",
       "        <th>label</th>\n",
       "      \n",
       "    </tr>\n",
       "  \n",
       "</thead>\n",
       "  <tbody>\n",
       "  \n",
       "    <tr>\n",
       "      <td>0</td>\n",
       "      \n",
       "        <td>5.1</td>\n",
       "      \n",
       "        <td>3.5</td>\n",
       "      \n",
       "        <td>1.4</td>\n",
       "      \n",
       "        <td>0.2</td>\n",
       "      \n",
       "        <td>Iris-setosa</td>\n",
       "      \n",
       "    </tr>\n",
       "  \n",
       "    <tr>\n",
       "      <td>1</td>\n",
       "      \n",
       "        <td>4.9</td>\n",
       "      \n",
       "        <td>3.0</td>\n",
       "      \n",
       "        <td>1.4</td>\n",
       "      \n",
       "        <td>0.2</td>\n",
       "      \n",
       "        <td>Iris-setosa</td>\n",
       "      \n",
       "    </tr>\n",
       "  \n",
       "    <tr>\n",
       "      <td>2</td>\n",
       "      \n",
       "        <td>4.7</td>\n",
       "      \n",
       "        <td>3.2</td>\n",
       "      \n",
       "        <td>1.3</td>\n",
       "      \n",
       "        <td>0.2</td>\n",
       "      \n",
       "        <td>Iris-setosa</td>\n",
       "      \n",
       "    </tr>\n",
       "  \n",
       "    <tr>\n",
       "      <td>3</td>\n",
       "      \n",
       "        <td>4.6</td>\n",
       "      \n",
       "        <td>3.1</td>\n",
       "      \n",
       "        <td>1.5</td>\n",
       "      \n",
       "        <td>0.2</td>\n",
       "      \n",
       "        <td>Iris-setosa</td>\n",
       "      \n",
       "    </tr>\n",
       "  \n",
       "    <tr>\n",
       "      <td>4</td>\n",
       "      \n",
       "        <td>5.0</td>\n",
       "      \n",
       "        <td>3.6</td>\n",
       "      \n",
       "        <td>1.4</td>\n",
       "      \n",
       "        <td>0.2</td>\n",
       "      \n",
       "        <td>Iris-setosa</td>\n",
       "      \n",
       "    </tr>\n",
       "  \n",
       "    <tr>\n",
       "      <td>5</td>\n",
       "      \n",
       "        <td>5.4</td>\n",
       "      \n",
       "        <td>3.9</td>\n",
       "      \n",
       "        <td>1.7</td>\n",
       "      \n",
       "        <td>0.4</td>\n",
       "      \n",
       "        <td>Iris-setosa</td>\n",
       "      \n",
       "    </tr>\n",
       "  \n",
       "    <tr>\n",
       "      <td>6</td>\n",
       "      \n",
       "        <td>4.6</td>\n",
       "      \n",
       "        <td>3.4</td>\n",
       "      \n",
       "        <td>1.4</td>\n",
       "      \n",
       "        <td>0.3</td>\n",
       "      \n",
       "        <td>Iris-setosa</td>\n",
       "      \n",
       "    </tr>\n",
       "  \n",
       "    <tr>\n",
       "      <td>7</td>\n",
       "      \n",
       "        <td>5.0</td>\n",
       "      \n",
       "        <td>3.4</td>\n",
       "      \n",
       "        <td>1.5</td>\n",
       "      \n",
       "        <td>0.2</td>\n",
       "      \n",
       "        <td>Iris-setosa</td>\n",
       "      \n",
       "    </tr>\n",
       "  \n",
       "    <tr>\n",
       "      <td>8</td>\n",
       "      \n",
       "        <td>4.4</td>\n",
       "      \n",
       "        <td>2.9</td>\n",
       "      \n",
       "        <td>1.4</td>\n",
       "      \n",
       "        <td>0.2</td>\n",
       "      \n",
       "        <td>Iris-setosa</td>\n",
       "      \n",
       "    </tr>\n",
       "  \n",
       "    <tr>\n",
       "      <td>9</td>\n",
       "      \n",
       "        <td>4.9</td>\n",
       "      \n",
       "        <td>3.1</td>\n",
       "      \n",
       "        <td>1.5</td>\n",
       "      \n",
       "        <td>0.1</td>\n",
       "      \n",
       "        <td>Iris-setosa</td>\n",
       "      \n",
       "    </tr>\n",
       "  \n",
       "\n",
       "  \n",
       "</tbody>\n",
       "</table>"
      ],
      "text/plain": [
       "#<Daru::DataFrame(10x5)>\n",
       "            sepal_leng sepal_widt petal_leng petal_widt      label\n",
       "          0        5.1        3.5        1.4        0.2 Iris-setos\n",
       "          1        4.9        3.0        1.4        0.2 Iris-setos\n",
       "          2        4.7        3.2        1.3        0.2 Iris-setos\n",
       "          3        4.6        3.1        1.5        0.2 Iris-setos\n",
       "          4        5.0        3.6        1.4        0.2 Iris-setos\n",
       "          5        5.4        3.9        1.7        0.4 Iris-setos\n",
       "          6        4.6        3.4        1.4        0.3 Iris-setos\n",
       "          7        5.0        3.4        1.5        0.2 Iris-setos\n",
       "          8        4.4        2.9        1.4        0.2 Iris-setos\n",
       "          9        4.9        3.1        1.5        0.1 Iris-setos"
      ]
     },
     "execution_count": 1,
     "metadata": {},
     "output_type": "execute_result"
    }
   ],
   "source": [
    "require 'datasets-daru'\n",
    "\n",
    "iris = Datasets::Iris.new.to_daru\n",
    "iris.head(10)"
   ]
  },
  {
   "cell_type": "markdown",
   "metadata": {},
   "source": [
    "Setting up Charty with Matplotlib backend."
   ]
  },
  {
   "cell_type": "code",
   "execution_count": 2,
   "metadata": {},
   "outputs": [
    {
     "data": {
      "text/plain": [
       "[:inline, \"module://ruby.matplotlib.backend_inline\"]"
      ]
     },
     "execution_count": 2,
     "metadata": {},
     "output_type": "execute_result"
    }
   ],
   "source": [
    "require 'charty'\n",
    "\n",
    "charty = Charty::Plotter.new(:matplot)\n",
    "Charty::Matplot.activate_iruby_integration"
   ]
  },
  {
   "cell_type": "markdown",
   "metadata": {},
   "source": [
    "Show scatterplot of the relationship between Petal Length and Petal Width."
   ]
  },
  {
   "cell_type": "code",
   "execution_count": 3,
   "metadata": {
    "scrolled": false
   },
   "outputs": [
    {
     "data": {
      "image/png": "[encoded data removed]",
      "text/plain": [
       "<Figure size 640x480 with 1 Axes>"
      ]
     },
     "execution_count": 3,
     "metadata": {},
     "output_type": "execute_result"
    }
   ],
   "source": [
    "plot = charty.scatter do\n",
    "  iris.group_by(:label).groups.each do |label, index|\n",
    "    records = iris.row[*index]\n",
    "    series records[:petal_length].to_a, records[:petal_width].to_a, label: label[0]\n",
    "  end\n",
    "  xlabel \"Petal Length\"\n",
    "  ylabel \"Petal Width\"\n",
    "end\n",
    "plot.render"
   ]
  },
  {
   "cell_type": "markdown",
   "metadata": {},
   "source": [
    "You can find the other examples in [here](./)."
   ]
  }
 ],
 "metadata": {
  "kernelspec": {
   "display_name": "Ruby 2.6.2",
   "language": "ruby",
   "name": "ruby"
  },
  "language_info": {
   "file_extension": ".rb",
   "mimetype": "application/x-ruby",
   "name": "ruby",
   "version": "2.6.2"
  }
 },
 "nbformat": 4,
 "nbformat_minor": 2
}
